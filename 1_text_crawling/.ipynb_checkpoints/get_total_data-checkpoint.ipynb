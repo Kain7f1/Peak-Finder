{
 "cells": [
  {
   "cell_type": "markdown",
   "id": "d2453a47-9efd-4c50-b456-c8f3dd120ca9",
   "metadata": {},
   "source": [
    "# get_tootal_data : 크롤링 결과 하나의 파일로 합치기"
   ]
  },
  {
   "cell_type": "markdown",
   "id": "3ebf82cd-1534-4709-b86f-f2221aee7eb4",
   "metadata": {},
   "source": [
    "## 1. 함수 설정"
   ]
  },
  {
   "cell_type": "code",
   "execution_count": 2,
   "id": "0a1eab78-e08a-41db-857f-ddcdf2208d21",
   "metadata": {},
   "outputs": [],
   "source": [
    "import pandas as pd\n",
    "import glob\n",
    "\n",
    "def merge_csv_files():\n",
    "    # 폴더 경로 내의 모든 .csv 파일 목록을 찾음\n",
    "    csv_files = glob.glob(\"*.csv\")\n",
    "    \n",
    "    # 빈 리스트를 초기화하여 각 .csv 파일의 DataFrame을 저장\n",
    "    dfs = []\n",
    "    \n",
    "    # 각 .csv 파일을 순회하며 DataFrame으로 읽어들이고 리스트에 추가\n",
    "    for file in csv_files:\n",
    "        df = pd.read_csv(file)\n",
    "        dfs.append(df)\n",
    "    \n",
    "    # 모든 DataFrame을 하나로 합침\n",
    "    merged_df = pd.concat(dfs, ignore_index=True)\n",
    "    \n",
    "    # 합쳐진 DataFrame 반환\n",
    "    return merged_df"
   ]
  },
  {
   "cell_type": "markdown",
   "id": "804633e8-92d0-4e05-b281-ed63d909d4d2",
   "metadata": {},
   "source": [
    "## 2. 함수 실행"
   ]
  },
  {
   "cell_type": "code",
   "execution_count": 3,
   "id": "c5a743e0-f789-4601-ae02-6b9078871eed",
   "metadata": {},
   "outputs": [],
   "source": [
    "df = merge_csv_files()"
   ]
  },
  {
   "cell_type": "code",
   "execution_count": 4,
   "id": "aeca8cf2-1c3c-40f4-a1e9-fe3e011a5e72",
   "metadata": {},
   "outputs": [
    {
     "name": "stdout",
     "output_type": "stream",
     "text": [
      "<class 'pandas.core.frame.DataFrame'>\n",
      "RangeIndex: 1123698 entries, 0 to 1123697\n",
      "Data columns (total 9 columns):\n",
      " #   Column          Non-Null Count    Dtype \n",
      "---  ------          --------------    ----- \n",
      " 0   community       1123698 non-null  object\n",
      " 1   gall_id         1123698 non-null  object\n",
      " 2   search_keyword  1123698 non-null  object\n",
      " 3   number          1123698 non-null  int64 \n",
      " 4   date_created    1123698 non-null  object\n",
      " 5   time_created    1123698 non-null  object\n",
      " 6   author          1123695 non-null  object\n",
      " 7   is_reply        1123698 non-null  int64 \n",
      " 8   text            1123696 non-null  object\n",
      "dtypes: int64(2), object(7)\n",
      "memory usage: 77.2+ MB\n"
     ]
    }
   ],
   "source": [
    "df.info()"
   ]
  },
  {
   "cell_type": "code",
   "execution_count": 5,
   "id": "5b4d02d4-3884-4026-be6b-aa83b36cc3ea",
   "metadata": {},
   "outputs": [
    {
     "data": {
      "text/html": [
       "<div>\n",
       "<style scoped>\n",
       "    .dataframe tbody tr th:only-of-type {\n",
       "        vertical-align: middle;\n",
       "    }\n",
       "\n",
       "    .dataframe tbody tr th {\n",
       "        vertical-align: top;\n",
       "    }\n",
       "\n",
       "    .dataframe thead th {\n",
       "        text-align: right;\n",
       "    }\n",
       "</style>\n",
       "<table border=\"1\" class=\"dataframe\">\n",
       "  <thead>\n",
       "    <tr style=\"text-align: right;\">\n",
       "      <th></th>\n",
       "      <th>community</th>\n",
       "      <th>gall_id</th>\n",
       "      <th>search_keyword</th>\n",
       "      <th>number</th>\n",
       "      <th>date_created</th>\n",
       "      <th>time_created</th>\n",
       "      <th>author</th>\n",
       "      <th>is_reply</th>\n",
       "      <th>text</th>\n",
       "    </tr>\n",
       "  </thead>\n",
       "  <tbody>\n",
       "    <tr>\n",
       "      <th>0</th>\n",
       "      <td>dcinside</td>\n",
       "      <td>snp500</td>\n",
       "      <td>jyp</td>\n",
       "      <td>746844</td>\n",
       "      <td>2023-06-13</td>\n",
       "      <td>12:50:42</td>\n",
       "      <td>ㅇㅇ</td>\n",
       "      <td>0</td>\n",
       "      <td>jyp가반년만에2배가올랏네 근디보니는인적자원위주로하는사업은먼가ㅂㄹ다걍제조업이조음..</td>\n",
       "    </tr>\n",
       "    <tr>\n",
       "      <th>1</th>\n",
       "      <td>dcinside</td>\n",
       "      <td>snp500</td>\n",
       "      <td>jyp</td>\n",
       "      <td>730087</td>\n",
       "      <td>2023-05-16</td>\n",
       "      <td>17:52:40</td>\n",
       "      <td>ㅇㅇ(118.34)</td>\n",
       "      <td>0</td>\n",
       "      <td>야 개보지년들아 JYP 주가 봤냐.. 미쳣다 지금... 개잡주 오르는건 그러려니 하...</td>\n",
       "    </tr>\n",
       "    <tr>\n",
       "      <th>2</th>\n",
       "      <td>dcinside</td>\n",
       "      <td>snp500</td>\n",
       "      <td>jyp</td>\n",
       "      <td>730087</td>\n",
       "      <td>2023-05-16</td>\n",
       "      <td>17:52:48</td>\n",
       "      <td>ㅇㅇ(118.34)</td>\n",
       "      <td>1</td>\n",
       "      <td>ㅠㅠ</td>\n",
       "    </tr>\n",
       "    <tr>\n",
       "      <th>3</th>\n",
       "      <td>dcinside</td>\n",
       "      <td>snp500</td>\n",
       "      <td>jyp</td>\n",
       "      <td>730087</td>\n",
       "      <td>2023-05-16</td>\n",
       "      <td>18:04:04</td>\n",
       "      <td>ㅇㅇ(203.227)</td>\n",
       "      <td>1</td>\n",
       "      <td>ㅠㅠ</td>\n",
       "    </tr>\n",
       "    <tr>\n",
       "      <th>4</th>\n",
       "      <td>dcinside</td>\n",
       "      <td>snp500</td>\n",
       "      <td>jyp</td>\n",
       "      <td>714904</td>\n",
       "      <td>2023-04-17</td>\n",
       "      <td>22:00:45</td>\n",
       "      <td>설묘.</td>\n",
       "      <td>0</td>\n",
       "      <td>니들 jyp 어케 생각해? ㄹㅇ 개미 너무 많이 붙는거 같은데</td>\n",
       "    </tr>\n",
       "  </tbody>\n",
       "</table>\n",
       "</div>"
      ],
      "text/plain": [
       "  community gall_id search_keyword  number date_created time_created  \\\n",
       "0  dcinside  snp500            jyp  746844   2023-06-13     12:50:42   \n",
       "1  dcinside  snp500            jyp  730087   2023-05-16     17:52:40   \n",
       "2  dcinside  snp500            jyp  730087   2023-05-16     17:52:48   \n",
       "3  dcinside  snp500            jyp  730087   2023-05-16     18:04:04   \n",
       "4  dcinside  snp500            jyp  714904   2023-04-17     22:00:45   \n",
       "\n",
       "        author  is_reply                                               text  \n",
       "0           ㅇㅇ         0     jyp가반년만에2배가올랏네 근디보니는인적자원위주로하는사업은먼가ㅂㄹ다걍제조업이조음..  \n",
       "1   ㅇㅇ(118.34)         0  야 개보지년들아 JYP 주가 봤냐.. 미쳣다 지금... 개잡주 오르는건 그러려니 하...  \n",
       "2   ㅇㅇ(118.34)         1                                                 ㅠㅠ  \n",
       "3  ㅇㅇ(203.227)         1                                                 ㅠㅠ  \n",
       "4          설묘.         0                 니들 jyp 어케 생각해? ㄹㅇ 개미 너무 많이 붙는거 같은데  "
      ]
     },
     "execution_count": 5,
     "metadata": {},
     "output_type": "execute_result"
    }
   ],
   "source": [
    "df.head()"
   ]
  },
  {
   "cell_type": "code",
   "execution_count": 6,
   "id": "9b1e66a0-038a-4879-ad9e-e8c1cbf1578f",
   "metadata": {},
   "outputs": [],
   "source": [
    "# 데이터 파일로 저장\n",
    "df.to_csv(\"total_data.csv\", index=False, encoding=\"utf-8\")"
   ]
  }
 ],
 "metadata": {
  "kernelspec": {
   "display_name": "Python 3 (ipykernel)",
   "language": "python",
   "name": "python3"
  },
  "language_info": {
   "codemirror_mode": {
    "name": "ipython",
    "version": 3
   },
   "file_extension": ".py",
   "mimetype": "text/x-python",
   "name": "python",
   "nbconvert_exporter": "python",
   "pygments_lexer": "ipython3",
   "version": "3.8.18"
  }
 },
 "nbformat": 4,
 "nbformat_minor": 5
}
