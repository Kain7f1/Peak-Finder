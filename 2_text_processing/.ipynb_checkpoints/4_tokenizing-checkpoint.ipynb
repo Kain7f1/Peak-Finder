{
 "cells": [
  {
   "cell_type": "markdown",
   "id": "1105e7f1-6375-4d04-b4d8-8a1dcffc9e50",
   "metadata": {},
   "source": [
    "# 4. 토큰화 Tokenizing"
   ]
  },
  {
   "cell_type": "markdown",
   "id": "90b5fe75-a87e-42c5-b6d6-9ee6b0746f45",
   "metadata": {},
   "source": [
    "## 4-a. 토큰화 계획\n",
    "- word extraction 한 단어 리스트로 사용자 정의 사전을 만든다\n",
    "- mecab 이용하여 tokenizing 한다"
   ]
  },
  {
   "cell_type": "markdown",
   "id": "0d120c06-e484-46ce-93f1-e8e52dee342a",
   "metadata": {},
   "source": [
    "## 4-b. 토큰화 프로세스\n",
    "1. mecab 을 컴파일하고, 테스트한다\n",
    "  - 테스트할 text 를 제작한다\n",
    "  - 토큰화 테스트\n",
    "2. word extraction의 결과 단어 리스트를 불러온다\n",
    "3. 사용자 정의 사전을 제작하고, .csv 파일로 저장해둔다\n",
    "  - 종성이 있는지 판단한다\n",
    "4. 여기까지 함수화한다 (단어 리스트 불러오기 + 사용자 정의 사전 파일로 저장)\n",
    "5. 사용자 정의 사전을 `**C:\\mecab\\user-dic**` 에 옮긴다\n",
    "6. 사용자 정의 사전을 컴파일한다\n",
    "7. 토큰화 한다\n",
    "  - [1-a] 의 text로 테스트를 진행한다\n",
    "  - 변화가 있는지 체크한다"
   ]
  },
  {
   "cell_type": "markdown",
   "id": "5f2de9d9-d3f6-4783-98a9-385cd3126565",
   "metadata": {},
   "source": [
    "## 4-c. 토큰화 진행"
   ]
  },
  {
   "cell_type": "markdown",
   "id": "55384270-28cf-45f5-bb35-f98abfeacc5a",
   "metadata": {},
   "source": [
    "### 4-c-1. mecab 컴파일\n",
    "- Mecab 메뉴얼 : https://kain7f1.notion.site/Mecab-195acbade3f14463b137c4490baebc76?pvs=4"
   ]
  },
  {
   "cell_type": "code",
   "execution_count": null,
   "id": "b747c975-e693-4004-a4b0-c3f784014514",
   "metadata": {},
   "outputs": [],
   "source": []
  },
  {
   "cell_type": "markdown",
   "id": "415c12a1-4154-47f1-998d-4da5d915d997",
   "metadata": {},
   "source": [
    "### 4-c-2. 토큰화 테스트"
   ]
  },
  {
   "cell_type": "code",
   "execution_count": null,
   "id": "5b42de52-e67f-49ff-a23b-2e2de509b98a",
   "metadata": {},
   "outputs": [],
   "source": [
    "text = \"\"\n",
    "\n"
   ]
  },
  {
   "cell_type": "code",
   "execution_count": null,
   "id": "c29b8d4f-e1ac-4f73-8e2a-8637d2e5c887",
   "metadata": {},
   "outputs": [],
   "source": []
  },
  {
   "cell_type": "code",
   "execution_count": null,
   "id": "40fadf46-0679-495d-8035-8cb856bf5720",
   "metadata": {},
   "outputs": [],
   "source": []
  }
 ],
 "metadata": {
  "kernelspec": {
   "display_name": "Python 3 (ipykernel)",
   "language": "python",
   "name": "python3"
  },
  "language_info": {
   "codemirror_mode": {
    "name": "ipython",
    "version": 3
   },
   "file_extension": ".py",
   "mimetype": "text/x-python",
   "name": "python",
   "nbconvert_exporter": "python",
   "pygments_lexer": "ipython3",
   "version": "3.8.18"
  }
 },
 "nbformat": 4,
 "nbformat_minor": 5
}
