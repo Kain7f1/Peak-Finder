{
 "cells": [
  {
   "cell_type": "markdown",
   "id": "350f1c19-323f-4b19-91f4-7e470d2f594c",
   "metadata": {},
   "source": [
    "# 2. 필요이상으로 긴 데이터 날려버리기 filtering_text_length\n",
    "- 목적이 다른 글일 가능성이 크다 ex) 기사\n",
    "- 500자 이상은 날려버린다"
   ]
  },
  {
   "cell_type": "code",
   "execution_count": 11,
   "id": "ea1e40e7-b8cf-44a5-9ae1-a7cde03e44e9",
   "metadata": {},
   "outputs": [
    {
     "name": "stdout",
     "output_type": "stream",
     "text": [
      "<class 'pandas.core.frame.DataFrame'>\n",
      "RangeIndex: 1092561 entries, 0 to 1092560\n",
      "Data columns (total 9 columns):\n",
      " #   Column          Non-Null Count    Dtype \n",
      "---  ------          --------------    ----- \n",
      " 0   community       1092561 non-null  object\n",
      " 1   gall_id         1092561 non-null  object\n",
      " 2   search_keyword  1092561 non-null  object\n",
      " 3   number          1092561 non-null  int64 \n",
      " 4   date_created    1092561 non-null  object\n",
      " 5   time_created    1092561 non-null  object\n",
      " 6   author          1092561 non-null  object\n",
      " 7   is_reply        1092561 non-null  int64 \n",
      " 8   cleansed_text   1073608 non-null  object\n",
      "dtypes: int64(2), object(7)\n",
      "memory usage: 75.0+ MB\n"
     ]
    }
   ],
   "source": [
    "# 데이터 읽어오기\n",
    "import pandas as pd\n",
    "df = pd.read_csv(\"1_cleansed_data.csv\", encoding=\"utf-8\")\n",
    "df.info()"
   ]
  },
  {
   "cell_type": "markdown",
   "id": "b4eff564-10cb-4ad6-ba03-fd090c185e7c",
   "metadata": {
    "jp-MarkdownHeadingCollapsed": true
   },
   "source": [
    "## 2-a. 함수 만들기"
   ]
  },
  {
   "cell_type": "code",
   "execution_count": 1,
   "id": "e04d092d-d61f-4be7-8a38-44ed3aea3e19",
   "metadata": {},
   "outputs": [],
   "source": [
    "import pandas as pd\n",
    "\n",
    "# 시간 측정 데코레이터\n",
    "import time\n",
    "\n",
    "def time_decorator(func):\n",
    "    def wrapper(*args, **kwargs):\n",
    "        start_time = time.time()\n",
    "        result = func(*args, **kwargs)\n",
    "        end_time = time.time()\n",
    "        print(f\"Function '{func.__name__}' executed in {end_time - start_time} seconds.\")\n",
    "        return result\n",
    "    return wrapper\n",
    "\n",
    "@time_decorator\n",
    "def make_length_filtered_csv_file(read_file_path, text_column_name, save_file_path):\n",
    "    \n",
    "    # 1. 데이터 읽어오기\n",
    "    print(\"[progress 1/5] 데이터 읽어오기\")\n",
    "    df = pd.read_csv(read_file_path, encoding=\"utf-8\")\n",
    "\n",
    "    # 2. 'text_length' 칼럼 계산\n",
    "    print(\"[progress 2/5] 'text_length' 칼럼 계산\")\n",
    "    df['text_length'] = df[text_column_name].str.len()\n",
    "    \n",
    "    # 3. 500자 지점이 상위 몇 %인지 계산\n",
    "    print(\"[progress 3/5] 500자 지점이 상위 몇 %인지 계산\")\n",
    "    percentile_500 = (df['text_length'] <= 500).mean() * 100\n",
    "    print(f\"{percentile_500} 퍼센트의 text만 보존합니다 \")\n",
    "    \n",
    "    # 4. 500자 초과하는 텍스트 제거\n",
    "    print(\"[progress 4/5] 500자 초과하는 텍스트 제거\")\n",
    "    df_filtered = df[df['text_length'] <= 500]\n",
    "    \n",
    "    \n",
    "    \n",
    "    # 5. 파일로 저장\n",
    "    print(\"[progress 5/5] 파일로 저장\")\n",
    "    df_filtered.to_csv(save_file_path, index=False, encoding=\"utf-8\")\n",
    "    \n",
    "\n",
    "    print(\"[done]\")"
   ]
  },
  {
   "cell_type": "markdown",
   "id": "94b98d11-9fd9-4255-a767-75d04d897608",
   "metadata": {},
   "source": [
    "## 2-b. 함수 적용"
   ]
  },
  {
   "cell_type": "code",
   "execution_count": 12,
   "id": "a7765f55-db26-4aa3-a81b-bf3ce7db3534",
   "metadata": {},
   "outputs": [
    {
     "name": "stdout",
     "output_type": "stream",
     "text": [
      "[progress 1/5] 데이터 읽어오기\n",
      "[progress 2/5] 'text_length' 칼럼 계산\n",
      "[progress 3/5] 500자 지점이 상위 몇 %인지 계산\n",
      "96.40065863599378 퍼센트의 text만 보존합니다 \n",
      "[progress 4/5] 500자 초과하는 텍스트 제거\n",
      "[progress 5/5] 파일로 저장\n",
      "[done]\n",
      "Function 'make_length_filtered_csv_file' executed in 6.778254747390747 seconds.\n"
     ]
    }
   ],
   "source": [
    "read_file_path = \"1_cleansed_data.csv\"\n",
    "text_column_name = \"cleansed_text\"\n",
    "save_file_path = \"2_length_filtered_data.csv\"\n",
    "make_length_filtered_csv_file(read_file_path, text_column_name, save_file_path)"
   ]
  },
  {
   "cell_type": "markdown",
   "id": "a8b1f384-97a2-4515-93c9-1742060de42d",
   "metadata": {},
   "source": [
    "## 2-c. 결과 확인\n",
    "- 결과 : 1053236 개의 row 데이터\n",
    "- 39325 개의 row 삭제됨 (약 3.6% 삭제)"
   ]
  },
  {
   "cell_type": "code",
   "execution_count": 13,
   "id": "b7106e65-5a6b-4715-b277-95b734e3e27c",
   "metadata": {},
   "outputs": [
    {
     "data": {
      "text/html": [
       "<div>\n",
       "<style scoped>\n",
       "    .dataframe tbody tr th:only-of-type {\n",
       "        vertical-align: middle;\n",
       "    }\n",
       "\n",
       "    .dataframe tbody tr th {\n",
       "        vertical-align: top;\n",
       "    }\n",
       "\n",
       "    .dataframe thead th {\n",
       "        text-align: right;\n",
       "    }\n",
       "</style>\n",
       "<table border=\"1\" class=\"dataframe\">\n",
       "  <thead>\n",
       "    <tr style=\"text-align: right;\">\n",
       "      <th></th>\n",
       "      <th>community</th>\n",
       "      <th>gall_id</th>\n",
       "      <th>search_keyword</th>\n",
       "      <th>number</th>\n",
       "      <th>date_created</th>\n",
       "      <th>time_created</th>\n",
       "      <th>author</th>\n",
       "      <th>is_reply</th>\n",
       "      <th>cleansed_text</th>\n",
       "      <th>text_length</th>\n",
       "    </tr>\n",
       "  </thead>\n",
       "  <tbody>\n",
       "    <tr>\n",
       "      <th>0</th>\n",
       "      <td>dcinside</td>\n",
       "      <td>snp500</td>\n",
       "      <td>jyp</td>\n",
       "      <td>746844</td>\n",
       "      <td>2023-06-13</td>\n",
       "      <td>12:50:42</td>\n",
       "      <td>ㅇㅇ</td>\n",
       "      <td>0</td>\n",
       "      <td>jyp가반년만에 배가올랏네 근디보니는인적자원위주로하는사업은먼ㅂㄹ걍제조업이조음</td>\n",
       "      <td>42.0</td>\n",
       "    </tr>\n",
       "    <tr>\n",
       "      <th>1</th>\n",
       "      <td>dcinside</td>\n",
       "      <td>snp500</td>\n",
       "      <td>jyp</td>\n",
       "      <td>730087</td>\n",
       "      <td>2023-05-16</td>\n",
       "      <td>17:52:40</td>\n",
       "      <td>ㅇㅇ(118.34)</td>\n",
       "      <td>0</td>\n",
       "      <td>야 개보지년들아 jyp 주가 봤냐 미쳣다 지금 개잡주 오르는건 그러려니 하는데와 진...</td>\n",
       "      <td>91.0</td>\n",
       "    </tr>\n",
       "    <tr>\n",
       "      <th>2</th>\n",
       "      <td>dcinside</td>\n",
       "      <td>snp500</td>\n",
       "      <td>jyp</td>\n",
       "      <td>730087</td>\n",
       "      <td>2023-05-16</td>\n",
       "      <td>17:52:48</td>\n",
       "      <td>ㅇㅇ(118.34)</td>\n",
       "      <td>1</td>\n",
       "      <td>ㅠㅠ</td>\n",
       "      <td>2.0</td>\n",
       "    </tr>\n",
       "  </tbody>\n",
       "</table>\n",
       "</div>"
      ],
      "text/plain": [
       "  community gall_id search_keyword  number date_created time_created  \\\n",
       "0  dcinside  snp500            jyp  746844   2023-06-13     12:50:42   \n",
       "1  dcinside  snp500            jyp  730087   2023-05-16     17:52:40   \n",
       "2  dcinside  snp500            jyp  730087   2023-05-16     17:52:48   \n",
       "\n",
       "       author  is_reply                                      cleansed_text  \\\n",
       "0          ㅇㅇ         0         jyp가반년만에 배가올랏네 근디보니는인적자원위주로하는사업은먼ㅂㄹ걍제조업이조음   \n",
       "1  ㅇㅇ(118.34)         0  야 개보지년들아 jyp 주가 봤냐 미쳣다 지금 개잡주 오르는건 그러려니 하는데와 진...   \n",
       "2  ㅇㅇ(118.34)         1                                                 ㅠㅠ   \n",
       "\n",
       "   text_length  \n",
       "0         42.0  \n",
       "1         91.0  \n",
       "2          2.0  "
      ]
     },
     "execution_count": 13,
     "metadata": {},
     "output_type": "execute_result"
    }
   ],
   "source": [
    "# 데이터 읽어오기\n",
    "import pandas as pd\n",
    "df = pd.read_csv(\"2_length_filtered_data.csv\", encoding=\"utf-8\")\n",
    "df.head(3)"
   ]
  },
  {
   "cell_type": "code",
   "execution_count": 14,
   "id": "05c25d3e-3b52-4213-9b80-94281ed823aa",
   "metadata": {},
   "outputs": [
    {
     "name": "stdout",
     "output_type": "stream",
     "text": [
      "<class 'pandas.core.frame.DataFrame'>\n",
      "RangeIndex: 1053236 entries, 0 to 1053235\n",
      "Data columns (total 10 columns):\n",
      " #   Column          Non-Null Count    Dtype  \n",
      "---  ------          --------------    -----  \n",
      " 0   community       1053236 non-null  object \n",
      " 1   gall_id         1053236 non-null  object \n",
      " 2   search_keyword  1053236 non-null  object \n",
      " 3   number          1053236 non-null  int64  \n",
      " 4   date_created    1053236 non-null  object \n",
      " 5   time_created    1053236 non-null  object \n",
      " 6   author          1053236 non-null  object \n",
      " 7   is_reply        1053236 non-null  int64  \n",
      " 8   cleansed_text   1053236 non-null  object \n",
      " 9   text_length     1053236 non-null  float64\n",
      "dtypes: float64(1), int64(2), object(7)\n",
      "memory usage: 80.4+ MB\n"
     ]
    }
   ],
   "source": [
    "df.info()"
   ]
  },
  {
   "cell_type": "code",
   "execution_count": 15,
   "id": "c7742033-5865-4840-b94b-49ba667c2261",
   "metadata": {},
   "outputs": [
    {
     "data": {
      "text/plain": [
       "39325"
      ]
     },
     "execution_count": 15,
     "metadata": {},
     "output_type": "execute_result"
    }
   ],
   "source": [
    "1092561 - 1053236 "
   ]
  }
 ],
 "metadata": {
  "kernelspec": {
   "display_name": "Python 3 (ipykernel)",
   "language": "python",
   "name": "python3"
  },
  "language_info": {
   "codemirror_mode": {
    "name": "ipython",
    "version": 3
   },
   "file_extension": ".py",
   "mimetype": "text/x-python",
   "name": "python",
   "nbconvert_exporter": "python",
   "pygments_lexer": "ipython3",
   "version": "3.8.18"
  }
 },
 "nbformat": 4,
 "nbformat_minor": 5
}
