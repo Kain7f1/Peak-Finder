{
 "cells": [
  {
   "cell_type": "markdown",
   "id": "b747281a-8dbd-4919-8fca-b48f1e75c402",
   "metadata": {},
   "source": [
    "# 2. 띄어쓰기 spacing"
   ]
  },
  {
   "cell_type": "markdown",
   "id": "096d24b8-bea5-4614-b8a5-9545b1f9f468",
   "metadata": {},
   "source": [
    "## 2-a. 띄어쓰기를 하는 이유\n",
    "- 커뮤니티 text는 띄어쓰기가 잘 되어있지 않다\r\n",
    "- 원활한 word extraction을 위해 띄어쓰기를 해주어 단어의 경계를 그어준다\r\n",
    "- 사용할 라이브러리 : soynlp\r\n",
    "    - 모든 text를 원하는 대로 띄어쓰기 해주는 것은 아니다.\r\n",
    "    - 하지만 원하지 않는 방향으로 띄어쓰기 하는 일은 거의 없다\r\n",
    "    - 다음 공정에 조금이라도 도움을 주기 위한 프로세스이다."
   ]
  },
  {
   "cell_type": "markdown",
   "id": "24b3b72f-05d3-4442-9505-5696470ca781",
   "metadata": {},
   "source": [
    "## 2-b. 띄어쓰기 계획\n",
    "1. text로만 이루어진 txt 파일 만들기\r\n",
    "2. spacing 모델 학습\r\n",
    "3. spacing 모델을 파일로 저장한다\r\n",
    "4. 함수화\r\n",
    "    1. spacing 모델을 불러온다\r\n",
    "    2. 기존의 파일에 적용한다 \r\n",
    "    3. 새로운 파일을 만든다"
   ]
  },
  {
   "cell_type": "markdown",
   "id": "8692c93b-44a0-47b5-af74-4d075f28788d",
   "metadata": {},
   "source": [
    "## 2-c. 띄어쓰기 진행"
   ]
  },
  {
   "cell_type": "markdown",
   "id": "d1c4df72-ce3e-4950-9c1b-1b74a9331383",
   "metadata": {},
   "source": [
    "### 2-c-1. 파일 불러오기"
   ]
  },
  {
   "cell_type": "code",
   "execution_count": 1,
   "id": "0d17f928-f4c0-4e76-a5f8-c2c4fb0a4119",
   "metadata": {},
   "outputs": [
    {
     "data": {
      "text/html": [
       "<div>\n",
       "<style scoped>\n",
       "    .dataframe tbody tr th:only-of-type {\n",
       "        vertical-align: middle;\n",
       "    }\n",
       "\n",
       "    .dataframe tbody tr th {\n",
       "        vertical-align: top;\n",
       "    }\n",
       "\n",
       "    .dataframe thead th {\n",
       "        text-align: right;\n",
       "    }\n",
       "</style>\n",
       "<table border=\"1\" class=\"dataframe\">\n",
       "  <thead>\n",
       "    <tr style=\"text-align: right;\">\n",
       "      <th></th>\n",
       "      <th>search_keyword</th>\n",
       "      <th>date_created</th>\n",
       "      <th>time_created</th>\n",
       "      <th>writer</th>\n",
       "      <th>is_reply</th>\n",
       "      <th>id</th>\n",
       "      <th>cleansed_text</th>\n",
       "    </tr>\n",
       "  </thead>\n",
       "  <tbody>\n",
       "    <tr>\n",
       "      <th>0</th>\n",
       "      <td>JYP</td>\n",
       "      <td>2023-06-13</td>\n",
       "      <td>12:50:42</td>\n",
       "      <td>ㅇㅇ</td>\n",
       "      <td>0</td>\n",
       "      <td>10100746844</td>\n",
       "      <td>jyp가반년만에 배가올랏네 근디보니는인적자원위주로하는사업은먼ㅂㄹ걍제조업이조음</td>\n",
       "    </tr>\n",
       "    <tr>\n",
       "      <th>1</th>\n",
       "      <td>JYP</td>\n",
       "      <td>2023-05-16</td>\n",
       "      <td>17:52:40</td>\n",
       "      <td>ㅇㅇ(118.34)</td>\n",
       "      <td>0</td>\n",
       "      <td>10100730087</td>\n",
       "      <td>야 개보지년들아 jyp 주가 봤냐 미쳣다 지금 개잡주 오르는건 그러려니 하는데와 진...</td>\n",
       "    </tr>\n",
       "    <tr>\n",
       "      <th>2</th>\n",
       "      <td>JYP</td>\n",
       "      <td>2023-05-16</td>\n",
       "      <td>17:52:48</td>\n",
       "      <td>ㅇㅇ(118.34)</td>\n",
       "      <td>1</td>\n",
       "      <td>10100730087</td>\n",
       "      <td>ㅠㅠ</td>\n",
       "    </tr>\n",
       "  </tbody>\n",
       "</table>\n",
       "</div>"
      ],
      "text/plain": [
       "  search_keyword date_created time_created      writer  is_reply           id  \\\n",
       "0            JYP   2023-06-13     12:50:42          ㅇㅇ         0  10100746844   \n",
       "1            JYP   2023-05-16     17:52:40  ㅇㅇ(118.34)         0  10100730087   \n",
       "2            JYP   2023-05-16     17:52:48  ㅇㅇ(118.34)         1  10100730087   \n",
       "\n",
       "                                       cleansed_text  \n",
       "0         jyp가반년만에 배가올랏네 근디보니는인적자원위주로하는사업은먼ㅂㄹ걍제조업이조음  \n",
       "1  야 개보지년들아 jyp 주가 봤냐 미쳣다 지금 개잡주 오르는건 그러려니 하는데와 진...  \n",
       "2                                                 ㅠㅠ  "
      ]
     },
     "execution_count": 1,
     "metadata": {},
     "output_type": "execute_result"
    }
   ],
   "source": [
    "import pandas as pd\n",
    "df = pd.read_csv(\"1_cleansed_text.csv\", encoding=\"utf-8\")\n",
    "df.head(3)"
   ]
  },
  {
   "cell_type": "code",
   "execution_count": 2,
   "id": "d896529e-fcc3-4248-bd8c-d00d9deb5c0e",
   "metadata": {},
   "outputs": [
    {
     "name": "stdout",
     "output_type": "stream",
     "text": [
      "<class 'pandas.core.frame.DataFrame'>\n",
      "RangeIndex: 1133622 entries, 0 to 1133621\n",
      "Data columns (total 7 columns):\n",
      " #   Column          Non-Null Count    Dtype \n",
      "---  ------          --------------    ----- \n",
      " 0   search_keyword  1133622 non-null  object\n",
      " 1   date_created    1133622 non-null  object\n",
      " 2   time_created    1133622 non-null  object\n",
      " 3   writer          1133622 non-null  object\n",
      " 4   is_reply        1133622 non-null  int64 \n",
      " 5   id              1133622 non-null  int64 \n",
      " 6   cleansed_text   1133622 non-null  object\n",
      "dtypes: int64(2), object(5)\n",
      "memory usage: 60.5+ MB\n"
     ]
    }
   ],
   "source": [
    "df.info()"
   ]
  },
  {
   "cell_type": "markdown",
   "id": "f2005006-6c11-4673-ba16-c041b5d112d2",
   "metadata": {},
   "source": [
    "### 2-c-2. 말뭉치만 txt로 저장한다 (단어 추출을 위해서)"
   ]
  },
  {
   "cell_type": "code",
   "execution_count": 3,
   "id": "d32f70fd-f6ee-43d8-b916-9f728aa00acb",
   "metadata": {},
   "outputs": [],
   "source": [
    "texts = df['cleansed_text'].tolist()\n",
    "\n",
    "# txt 파일로 저장\n",
    "with open('2_cleansed_corpus.txt', 'w', encoding='utf-8') as file:\n",
    "    for text in texts:\n",
    "        file.write(text + '\\n')"
   ]
  },
  {
   "cell_type": "markdown",
   "id": "17e13123-062e-45f0-b7a1-70c2a8bb42dc",
   "metadata": {},
   "source": [
    "### 2-c-3. spacing 모델 학습"
   ]
  },
  {
   "cell_type": "code",
   "execution_count": 4,
   "id": "a3a5b7e2-b5b2-4d1a-854f-a2affdb2eefa",
   "metadata": {},
   "outputs": [
    {
     "name": "stdout",
     "output_type": "stream",
     "text": [
      "all tags length = 3089508 --> 2119629, (num_doc = 1133621)"
     ]
    }
   ],
   "source": [
    "from soyspacing.countbase import CountSpace\n",
    "\n",
    "# spacing 모델 학습시키기\n",
    "corpus_fname = '2_cleansed_corpus.txt'  # 입력 말뭉치 파일\n",
    "model = CountSpace()\n",
    "model.train(corpus_fname)  # spacing 모델 학습"
   ]
  },
  {
   "cell_type": "markdown",
   "id": "1382f49a-ba81-480e-b200-78bb8ebb9926",
   "metadata": {},
   "source": [
    "### 2-c-4. spacing 모델 파일로 저장"
   ]
  },
  {
   "cell_type": "code",
   "execution_count": 5,
   "id": "6749c08d-76ca-4e71-8768-d5c36f1c5a60",
   "metadata": {},
   "outputs": [],
   "source": [
    "# 학습된 spacing 모델 파일로 저장하기\n",
    "model_fname = \"2_spacing_model\"\n",
    "model.save_model(model_fname, json_format=False)"
   ]
  },
  {
   "cell_type": "markdown",
   "id": "9e3ff075-14ed-4df9-8495-a20e2d2f7fa6",
   "metadata": {},
   "source": [
    "### 2-c-5. 저장된 spacing 모델 불러오기"
   ]
  },
  {
   "cell_type": "code",
   "execution_count": 6,
   "id": "0d160e39-4b51-4c65-a45e-bd24933f3329",
   "metadata": {},
   "outputs": [],
   "source": [
    "# spacing 모델 파일 불러오기\n",
    "from soyspacing.countbase import CountSpace\n",
    "\n",
    "model_fname = \"2_spacing_model\"\n",
    "model = CountSpace()\n",
    "model.load_model(model_fname, json_format=False)"
   ]
  },
  {
   "cell_type": "markdown",
   "id": "432d0e50-905d-4e3c-bc5a-e45bb23fae2f",
   "metadata": {},
   "source": [
    "### 2-c-6. spacing 함수 정의"
   ]
  },
  {
   "cell_type": "code",
   "execution_count": 7,
   "id": "92ab0a4f-eb89-4655-92b3-5e21ff1d267c",
   "metadata": {},
   "outputs": [],
   "source": [
    "# spacing 함수\n",
    "def get_spaced_text(input_text):\n",
    "    # parameters\n",
    "    verbose=False\n",
    "    mc = 10   # min_count\n",
    "    ft = 0.3  # force_abs_threshold\n",
    "    nt =-0.3  # nonspace_threshold\n",
    "    st = 0.3  # space_threshold\n",
    "\n",
    "    # with parameters\n",
    "    spaced_text, tags = model.correct(\n",
    "        doc=input_text,\n",
    "        verbose=verbose,\n",
    "        force_abs_threshold=ft,\n",
    "        nonspace_threshold=nt,\n",
    "        space_threshold=st,\n",
    "        min_count=mc)\n",
    "\n",
    "    return spaced_text"
   ]
  },
  {
   "cell_type": "markdown",
   "id": "67a6fca5-d3c1-4d95-a4be-a7725859223f",
   "metadata": {},
   "source": [
    "### 2-c-7. spacing 함수 테스트"
   ]
  },
  {
   "cell_type": "code",
   "execution_count": 11,
   "id": "00183fd4-fc5d-4876-bf51-93248abc2380",
   "metadata": {},
   "outputs": [
    {
     "name": "stdout",
     "output_type": "stream",
     "text": [
      "행님댓글읽다보니까 수급+a로가야살아남을확률이 높아지는거구나 싶긴함요즘수급만 보고 매매하는거에 한계를 느끼긴했음 ㅠㅠ글구최근에해운이랑철강한번 오고담주는건설일것같음\n"
     ]
    }
   ],
   "source": [
    "# 테스트\n",
    "input_text = '행님댓글읽다보니까수급+a로가야살아남을확률이높아지는거구나싶긴함요즘수급만보고매매하는거에한계를느끼긴했음ㅠㅠ글구최근에해운이랑철강한번오고담주는건설일것같음'\n",
    "print(get_spaced_text(input_text))"
   ]
  },
  {
   "cell_type": "markdown",
   "id": "133b8f86-fd54-4ba3-afc5-7cb09bd64658",
   "metadata": {},
   "source": [
    "### 2-c-8. csv 파일에 spacing 적용시키기"
   ]
  },
  {
   "cell_type": "code",
   "execution_count": 12,
   "id": "81001e2a-6a97-4701-9b29-c188afaf9cc9",
   "metadata": {},
   "outputs": [
    {
     "data": {
      "text/html": [
       "<div>\n",
       "<style scoped>\n",
       "    .dataframe tbody tr th:only-of-type {\n",
       "        vertical-align: middle;\n",
       "    }\n",
       "\n",
       "    .dataframe tbody tr th {\n",
       "        vertical-align: top;\n",
       "    }\n",
       "\n",
       "    .dataframe thead th {\n",
       "        text-align: right;\n",
       "    }\n",
       "</style>\n",
       "<table border=\"1\" class=\"dataframe\">\n",
       "  <thead>\n",
       "    <tr style=\"text-align: right;\">\n",
       "      <th></th>\n",
       "      <th>search_keyword</th>\n",
       "      <th>date_created</th>\n",
       "      <th>time_created</th>\n",
       "      <th>writer</th>\n",
       "      <th>is_reply</th>\n",
       "      <th>id</th>\n",
       "      <th>cleansed_text</th>\n",
       "    </tr>\n",
       "  </thead>\n",
       "  <tbody>\n",
       "    <tr>\n",
       "      <th>0</th>\n",
       "      <td>JYP</td>\n",
       "      <td>2023-06-13</td>\n",
       "      <td>12:50:42</td>\n",
       "      <td>ㅇㅇ</td>\n",
       "      <td>0</td>\n",
       "      <td>10100746844</td>\n",
       "      <td>jyp가반년만에 배가올랏네 근디보니는인적자원위주로하는사업은먼ㅂㄹ걍제조업이조음</td>\n",
       "    </tr>\n",
       "    <tr>\n",
       "      <th>1</th>\n",
       "      <td>JYP</td>\n",
       "      <td>2023-05-16</td>\n",
       "      <td>17:52:40</td>\n",
       "      <td>ㅇㅇ(118.34)</td>\n",
       "      <td>0</td>\n",
       "      <td>10100730087</td>\n",
       "      <td>야 개보지년들아 jyp 주가 봤냐 미쳣다 지금 개잡주 오르는건 그러려니 하는데와 진...</td>\n",
       "    </tr>\n",
       "    <tr>\n",
       "      <th>2</th>\n",
       "      <td>JYP</td>\n",
       "      <td>2023-05-16</td>\n",
       "      <td>17:52:48</td>\n",
       "      <td>ㅇㅇ(118.34)</td>\n",
       "      <td>1</td>\n",
       "      <td>10100730087</td>\n",
       "      <td>ㅠㅠ</td>\n",
       "    </tr>\n",
       "  </tbody>\n",
       "</table>\n",
       "</div>"
      ],
      "text/plain": [
       "  search_keyword date_created time_created      writer  is_reply           id  \\\n",
       "0            JYP   2023-06-13     12:50:42          ㅇㅇ         0  10100746844   \n",
       "1            JYP   2023-05-16     17:52:40  ㅇㅇ(118.34)         0  10100730087   \n",
       "2            JYP   2023-05-16     17:52:48  ㅇㅇ(118.34)         1  10100730087   \n",
       "\n",
       "                                       cleansed_text  \n",
       "0         jyp가반년만에 배가올랏네 근디보니는인적자원위주로하는사업은먼ㅂㄹ걍제조업이조음  \n",
       "1  야 개보지년들아 jyp 주가 봤냐 미쳣다 지금 개잡주 오르는건 그러려니 하는데와 진...  \n",
       "2                                                 ㅠㅠ  "
      ]
     },
     "execution_count": 12,
     "metadata": {},
     "output_type": "execute_result"
    }
   ],
   "source": [
    "# .csv 파일 불러오기\n",
    "import pandas as pd\n",
    "df = pd.read_csv(\"1_cleansed_text.csv\", encoding=\"utf-8\")\n",
    "df.head(3)"
   ]
  },
  {
   "cell_type": "code",
   "execution_count": 13,
   "id": "9eaea0e7-9f6a-4f28-83ad-0f9faf9021a0",
   "metadata": {},
   "outputs": [
    {
     "name": "stdout",
     "output_type": "stream",
     "text": [
      "<class 'pandas.core.frame.DataFrame'>\n",
      "RangeIndex: 1133622 entries, 0 to 1133621\n",
      "Data columns (total 7 columns):\n",
      " #   Column          Non-Null Count    Dtype \n",
      "---  ------          --------------    ----- \n",
      " 0   search_keyword  1133622 non-null  object\n",
      " 1   date_created    1133622 non-null  object\n",
      " 2   time_created    1133622 non-null  object\n",
      " 3   writer          1133622 non-null  object\n",
      " 4   is_reply        1133622 non-null  int64 \n",
      " 5   id              1133622 non-null  int64 \n",
      " 6   cleansed_text   1133622 non-null  object\n",
      "dtypes: int64(2), object(5)\n",
      "memory usage: 60.5+ MB\n"
     ]
    }
   ],
   "source": [
    "df.info()"
   ]
  },
  {
   "cell_type": "code",
   "execution_count": 14,
   "id": "36c63144-44b7-416a-8530-76711d17c929",
   "metadata": {},
   "outputs": [
    {
     "data": {
      "text/html": [
       "<div>\n",
       "<style scoped>\n",
       "    .dataframe tbody tr th:only-of-type {\n",
       "        vertical-align: middle;\n",
       "    }\n",
       "\n",
       "    .dataframe tbody tr th {\n",
       "        vertical-align: top;\n",
       "    }\n",
       "\n",
       "    .dataframe thead th {\n",
       "        text-align: right;\n",
       "    }\n",
       "</style>\n",
       "<table border=\"1\" class=\"dataframe\">\n",
       "  <thead>\n",
       "    <tr style=\"text-align: right;\">\n",
       "      <th></th>\n",
       "      <th>search_keyword</th>\n",
       "      <th>date_created</th>\n",
       "      <th>time_created</th>\n",
       "      <th>writer</th>\n",
       "      <th>is_reply</th>\n",
       "      <th>id</th>\n",
       "      <th>cleansed_text</th>\n",
       "      <th>spaced_text</th>\n",
       "    </tr>\n",
       "  </thead>\n",
       "  <tbody>\n",
       "    <tr>\n",
       "      <th>1133617</th>\n",
       "      <td>휴젤</td>\n",
       "      <td>2020-04-30</td>\n",
       "      <td>20:08:57</td>\n",
       "      <td>사이버경찰</td>\n",
       "      <td>1</td>\n",
       "      <td>241400137263</td>\n",
       "      <td>갤 잘못온듯</td>\n",
       "      <td>갤 잘못온듯</td>\n",
       "    </tr>\n",
       "    <tr>\n",
       "      <th>1133618</th>\n",
       "      <td>휴젤</td>\n",
       "      <td>2020-04-30</td>\n",
       "      <td>20:09:36</td>\n",
       "      <td>윤연준(211.108)</td>\n",
       "      <td>1</td>\n",
       "      <td>241400137263</td>\n",
       "      <td>ccl 지금 시총 반도안되는 개잡주들 천지인즛</td>\n",
       "      <td>ccl 지금 시총 반도 안되는 개잡주들 천지인즛</td>\n",
       "    </tr>\n",
       "    <tr>\n",
       "      <th>1133619</th>\n",
       "      <td>휴젤</td>\n",
       "      <td>2020-04-29</td>\n",
       "      <td>11:55:10</td>\n",
       "      <td>ㅇㅇ(123.215)</td>\n",
       "      <td>0</td>\n",
       "      <td>241400125127</td>\n",
       "      <td>미국주식보다 한국꺼보면 ㄹㅇ 암걸릴 것 같음 특히 휴젤 저거 아는분이 임원진인데 회...</td>\n",
       "      <td>미국주식보다 한국꺼보면 ㄹㅇ 암걸릴 것 같음 특히 휴젤 저거 아는분이 임원진인데 회...</td>\n",
       "    </tr>\n",
       "    <tr>\n",
       "      <th>1133620</th>\n",
       "      <td>휴젤</td>\n",
       "      <td>2020-04-29</td>\n",
       "      <td>11:56:16</td>\n",
       "      <td>ㅇㄷ(175.223)</td>\n",
       "      <td>1</td>\n",
       "      <td>241400125127</td>\n",
       "      <td>한국 상장회사들중에 ㅂㅅ은곳이 넘 많음</td>\n",
       "      <td>한국 상장회사들중에 ㅂㅅ은곳이 넘 많음</td>\n",
       "    </tr>\n",
       "    <tr>\n",
       "      <th>1133621</th>\n",
       "      <td>휴젤</td>\n",
       "      <td>2020-04-29</td>\n",
       "      <td>11:56:38</td>\n",
       "      <td>ㅇㅇ(223.33)</td>\n",
       "      <td>1</td>\n",
       "      <td>241400125127</td>\n",
       "      <td>신흥국 회사투자 망설여지는 게 이거 때문임 주식시장에 대한 개념이 안 잡혀있음</td>\n",
       "      <td>신흥국 회사 투자 망설여지는 게 이거 때문임 주식시장에 대한 개념이 안 잡혀있음</td>\n",
       "    </tr>\n",
       "  </tbody>\n",
       "</table>\n",
       "</div>"
      ],
      "text/plain": [
       "        search_keyword date_created time_created        writer  is_reply  \\\n",
       "1133617             휴젤   2020-04-30     20:08:57         사이버경찰         1   \n",
       "1133618             휴젤   2020-04-30     20:09:36  윤연준(211.108)         1   \n",
       "1133619             휴젤   2020-04-29     11:55:10   ㅇㅇ(123.215)         0   \n",
       "1133620             휴젤   2020-04-29     11:56:16   ㅇㄷ(175.223)         1   \n",
       "1133621             휴젤   2020-04-29     11:56:38    ㅇㅇ(223.33)         1   \n",
       "\n",
       "                   id                                      cleansed_text  \\\n",
       "1133617  241400137263                                             갤 잘못온듯   \n",
       "1133618  241400137263                          ccl 지금 시총 반도안되는 개잡주들 천지인즛   \n",
       "1133619  241400125127  미국주식보다 한국꺼보면 ㄹㅇ 암걸릴 것 같음 특히 휴젤 저거 아는분이 임원진인데 회...   \n",
       "1133620  241400125127                              한국 상장회사들중에 ㅂㅅ은곳이 넘 많음   \n",
       "1133621  241400125127        신흥국 회사투자 망설여지는 게 이거 때문임 주식시장에 대한 개념이 안 잡혀있음   \n",
       "\n",
       "                                               spaced_text  \n",
       "1133617                                             갤 잘못온듯  \n",
       "1133618                         ccl 지금 시총 반도 안되는 개잡주들 천지인즛  \n",
       "1133619  미국주식보다 한국꺼보면 ㄹㅇ 암걸릴 것 같음 특히 휴젤 저거 아는분이 임원진인데 회...  \n",
       "1133620                              한국 상장회사들중에 ㅂㅅ은곳이 넘 많음  \n",
       "1133621       신흥국 회사 투자 망설여지는 게 이거 때문임 주식시장에 대한 개념이 안 잡혀있음  "
      ]
     },
     "execution_count": 14,
     "metadata": {},
     "output_type": "execute_result"
    }
   ],
   "source": [
    "# df의 칼럼에 spacing 적용시키기\n",
    "df['spaced_text'] = df['cleansed_text'].apply(get_spaced_text)\n",
    "df.head(3)"
   ]
  },
  {
   "cell_type": "markdown",
   "id": "6b69058b-cbc4-4cbf-8c18-23f77f5ef327",
   "metadata": {},
   "source": [
    "### 2-c-9. spacing이 적용된 df를 csv 파일로 저장하기"
   ]
  },
  {
   "cell_type": "code",
   "execution_count": 16,
   "id": "727bf5cd-7a92-4694-b4b0-24e26975bb27",
   "metadata": {},
   "outputs": [
    {
     "data": {
      "text/html": [
       "<div>\n",
       "<style scoped>\n",
       "    .dataframe tbody tr th:only-of-type {\n",
       "        vertical-align: middle;\n",
       "    }\n",
       "\n",
       "    .dataframe tbody tr th {\n",
       "        vertical-align: top;\n",
       "    }\n",
       "\n",
       "    .dataframe thead th {\n",
       "        text-align: right;\n",
       "    }\n",
       "</style>\n",
       "<table border=\"1\" class=\"dataframe\">\n",
       "  <thead>\n",
       "    <tr style=\"text-align: right;\">\n",
       "      <th></th>\n",
       "      <th>search_keyword</th>\n",
       "      <th>date_created</th>\n",
       "      <th>time_created</th>\n",
       "      <th>writer</th>\n",
       "      <th>is_reply</th>\n",
       "      <th>id</th>\n",
       "      <th>spaced_text</th>\n",
       "    </tr>\n",
       "  </thead>\n",
       "  <tbody>\n",
       "    <tr>\n",
       "      <th>0</th>\n",
       "      <td>JYP</td>\n",
       "      <td>2023-06-13</td>\n",
       "      <td>12:50:42</td>\n",
       "      <td>ㅇㅇ</td>\n",
       "      <td>0</td>\n",
       "      <td>10100746844</td>\n",
       "      <td>jyp가반년만에 배가 올랏네 근디보니는인적자원위주로 하는 사업은먼ㅂㄹ걍제조업이조음</td>\n",
       "    </tr>\n",
       "    <tr>\n",
       "      <th>1</th>\n",
       "      <td>JYP</td>\n",
       "      <td>2023-05-16</td>\n",
       "      <td>17:52:40</td>\n",
       "      <td>ㅇㅇ(118.34)</td>\n",
       "      <td>0</td>\n",
       "      <td>10100730087</td>\n",
       "      <td>야 개보지년들아 jyp 주가 봤냐 미쳣다 지금 개잡주 오르는건 그러려니 하는데 와 ...</td>\n",
       "    </tr>\n",
       "    <tr>\n",
       "      <th>2</th>\n",
       "      <td>JYP</td>\n",
       "      <td>2023-05-16</td>\n",
       "      <td>17:52:48</td>\n",
       "      <td>ㅇㅇ(118.34)</td>\n",
       "      <td>1</td>\n",
       "      <td>10100730087</td>\n",
       "      <td>ㅠㅠ</td>\n",
       "    </tr>\n",
       "  </tbody>\n",
       "</table>\n",
       "</div>"
      ],
      "text/plain": [
       "  search_keyword date_created time_created      writer  is_reply           id  \\\n",
       "0            JYP   2023-06-13     12:50:42          ㅇㅇ         0  10100746844   \n",
       "1            JYP   2023-05-16     17:52:40  ㅇㅇ(118.34)         0  10100730087   \n",
       "2            JYP   2023-05-16     17:52:48  ㅇㅇ(118.34)         1  10100730087   \n",
       "\n",
       "                                         spaced_text  \n",
       "0      jyp가반년만에 배가 올랏네 근디보니는인적자원위주로 하는 사업은먼ㅂㄹ걍제조업이조음  \n",
       "1  야 개보지년들아 jyp 주가 봤냐 미쳣다 지금 개잡주 오르는건 그러려니 하는데 와 ...  \n",
       "2                                                 ㅠㅠ  "
      ]
     },
     "execution_count": 16,
     "metadata": {},
     "output_type": "execute_result"
    }
   ],
   "source": [
    "# 불필요한 칼럼 제거\n",
    "df_new = df.drop(['cleansed_text'], axis=1)\n",
    "df_new.head(3)"
   ]
  },
  {
   "cell_type": "code",
   "execution_count": 17,
   "id": "6939ccb2-5084-4945-bdfc-3da78f633edc",
   "metadata": {},
   "outputs": [],
   "source": [
    "# .csv 파일로 저장\n",
    "df_new.to_csv(\"2_spaced_text.csv\", encoding='utf-8', index=False)"
   ]
  },
  {
   "cell_type": "markdown",
   "id": "f2af2b70-6b8e-4f8c-af32-78670136185f",
   "metadata": {},
   "source": [
    "## 2-d. 함수화\n",
    "- 함수로 만들어 재사용 가능하도록 만든다."
   ]
  },
  {
   "cell_type": "markdown",
   "id": "b5dce8e9-a1ae-41de-8674-cab26efb760d",
   "metadata": {},
   "source": [
    "### 2-d-1. 함수 만들기"
   ]
  },
  {
   "cell_type": "code",
   "execution_count": 18,
   "id": "76b977e5-8da6-4df4-82f7-5b14c1282147",
   "metadata": {},
   "outputs": [],
   "source": [
    "# 시간 측정 데코레이터\n",
    "import time\n",
    "\n",
    "def time_decorator(func):\n",
    "    def wrapper(*args, **kwargs):\n",
    "        start_time = time.time()\n",
    "        result = func(*args, **kwargs)\n",
    "        end_time = time.time()\n",
    "        print(f\"Function '{func.__name__}' executed in {end_time - start_time} seconds.\")\n",
    "        return result\n",
    "    return wrapper"
   ]
  },
  {
   "cell_type": "code",
   "execution_count": 19,
   "id": "3dacfb8e-5e41-419e-a308-199861b39b08",
   "metadata": {},
   "outputs": [],
   "source": [
    "import pandas as pd\n",
    "from soyspacing.countbase import CountSpace\n",
    "    \n",
    "@time_decorator\n",
    "def make_cleansed_csv_file(fname_to_read, spacing_model_fname, text_column_name, fname_to_save, train_model=True):\n",
    "    \n",
    "    # 1. 데이터 읽어오기\n",
    "    print(\"[progress 1/8] 데이터 읽어오기\")\n",
    "    fpath_to_read = fname_to_read + \".csv\"\n",
    "    df = pd.read_csv(fpath_to_read, encoding=\"utf-8\")\n",
    "\n",
    "    if train_model:\n",
    "        # 2. 학습을 위한 corpus 만들기\n",
    "        print(\"[progress 2/8] 학습을 위한 corpus 파일 생성\")\n",
    "        texts = df['cleansed_text'].tolist()\n",
    "        corpus_fname = fname_to_read + \".txt\"\n",
    "        with open(corpus_fname, 'w', encoding='utf-8') as file:\n",
    "            for text in texts:\n",
    "                file.write(text + '\\n')\n",
    "    \n",
    "        # 3. spacing 모델 학습\n",
    "        print(\"[progress 3/8] spacing 모델 학습\")\n",
    "        model = CountSpace()\n",
    "        model.train(corpus_fname)  \n",
    "    \n",
    "        # 4. 학습된 spacing 모델을 파일로 저장\n",
    "        print(\"[progress 4/8] 학습된 spacing 모델을 파일로 저장\")\n",
    "        model.save_model(spacing_model_fname, json_format=False)\n",
    "    else:\n",
    "        print(\"[progress 2~4/8] spacing 모델 학습을 진행하지 않고, 저장된 모델을 불러오겠습니다.\")\n",
    "        \n",
    "    # 5. 저장된 spacing 모델 파일 불러오기\n",
    "    print(\"[progress 5/8] 저장된 spacing 모델 파일 불러오기\")\n",
    "    saved_model = CountSpace()\n",
    "    saved_model.load_model(spacing_model_fname, json_format=False)\n",
    "    \n",
    "    # 6. spacing 함수 정의\n",
    "    print(\"[progress 6/8] spacing 함수 정의\")\n",
    "    def get_spaced_text(input_text):\n",
    "        # parameters\n",
    "        verbose=False\n",
    "        mc = 10   # min_count\n",
    "        ft = 0.3  # force_abs_threshold\n",
    "        nt =-0.3  # nonspace_threshold\n",
    "        st = 0.3  # space_threshold\n",
    "    \n",
    "        # with parameters\n",
    "        spaced_text, tags = saved_model.correct(\n",
    "            doc=input_text,\n",
    "            verbose=verbose,\n",
    "            force_abs_threshold=ft,\n",
    "            nonspace_threshold=nt,\n",
    "            space_threshold=st,\n",
    "            min_count=mc)\n",
    "    \n",
    "        return spaced_text\n",
    "\n",
    "    # 7. csv 파일에 spacing 적용시키기\n",
    "    print(\"[progress 7/8] csv 파일에 spacing 적용시키기\")\n",
    "    df['spaced_text'] = df[text_column_name].apply(get_spaced_text)\n",
    "    df.head(3)\n",
    "\n",
    "    # 8. spacing이 적용된 데이터를 파일로 저장하기\n",
    "    print(\"[progress 8/8] spacing이 적용된 데이터를 파일로 저장하기\")\n",
    "    df_new = df.drop(['text', 'cleansed_text'], axis=1)  # 불필요한 칼럼 제거\n",
    "    df_new.to_csv(\"2_spaced_text.csv\", encoding='utf-8', index=False)  # csv 파일로 저장 \n",
    "\n",
    "    print(\"[done]\")"
   ]
  },
  {
   "cell_type": "markdown",
   "id": "9ddd075a-1585-48c8-b9e4-d6bc75a6eac2",
   "metadata": {},
   "source": [
    "### 2-d-2. 함수 테스트"
   ]
  },
  {
   "cell_type": "code",
   "execution_count": null,
   "id": "40c87724-abdb-4c1b-b946-dcdaea9920d1",
   "metadata": {},
   "outputs": [
    {
     "name": "stdout",
     "output_type": "stream",
     "text": [
      "[progress 1/8] 데이터 읽어오기\n",
      "[progress 2~4/8] spacing 모델 학습을 진행하지 않고, 저장된 모델을 불러오겠습니다.\n",
      "[progress 5/8] 저장된 spacing 모델 파일 불러오기\n",
      "[progress 6/8] spacing 함수 정의\n",
      "[progress 7/8] csv 파일에 spacing 적용시키기\n"
     ]
    }
   ],
   "source": [
    "fname_to_read = \"1_cleansed_text\"\n",
    "spacing_model_fname = \"2_spacing_model\"\n",
    "text_column_name = \"cleansed_text\"\n",
    "fname_to_save = \"2_spaced_text\"\n",
    "make_cleansed_csv_file(fname_to_read, spacing_model_fname, text_column_name, fname_to_save, train_model=False)"
   ]
  }
 ],
 "metadata": {
  "kernelspec": {
   "display_name": "Python 3 (ipykernel)",
   "language": "python",
   "name": "python3"
  },
  "language_info": {
   "codemirror_mode": {
    "name": "ipython",
    "version": 3
   },
   "file_extension": ".py",
   "mimetype": "text/x-python",
   "name": "python",
   "nbconvert_exporter": "python",
   "pygments_lexer": "ipython3",
   "version": "3.8.18"
  }
 },
 "nbformat": 4,
 "nbformat_minor": 5
}
