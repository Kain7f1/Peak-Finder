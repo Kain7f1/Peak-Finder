{
 "cells": [
  {
   "cell_type": "markdown",
   "id": "350f1c19-323f-4b19-91f4-7e470d2f594c",
   "metadata": {},
   "source": [
    "# 2. 필요이상으로 긴 데이터 날려버리기\n",
    "- 목적이 다른 글일 가능성이 크다 ex) 기사\n",
    "- 500자 이상은 날려버린다"
   ]
  },
  {
   "cell_type": "markdown",
   "id": "b4eff564-10cb-4ad6-ba03-fd090c185e7c",
   "metadata": {},
   "source": [
    "## 2-a. 함수 만들기"
   ]
  },
  {
   "cell_type": "code",
   "execution_count": 4,
   "id": "e04d092d-d61f-4be7-8a38-44ed3aea3e19",
   "metadata": {},
   "outputs": [],
   "source": [
    "import pandas as pd\n",
    "\n",
    "# 시간 측정 데코레이터\n",
    "import time\n",
    "\n",
    "def time_decorator(func):\n",
    "    def wrapper(*args, **kwargs):\n",
    "        start_time = time.time()\n",
    "        result = func(*args, **kwargs)\n",
    "        end_time = time.time()\n",
    "        print(f\"Function '{func.__name__}' executed in {end_time - start_time} seconds.\")\n",
    "        return result\n",
    "    return wrapper\n",
    "\n",
    "@time_decorator\n",
    "def make_length_filtered_csv_file(read_file_path, text_column_name, save_file_path):\n",
    "    \n",
    "    # 1. 데이터 읽어오기\n",
    "    print(\"[progress 1/5] 데이터 읽어오기\")\n",
    "    df = pd.read_csv(read_file_path, encoding=\"utf-8\")\n",
    "\n",
    "    # 2. 'text_length' 칼럼 계산\n",
    "    print(\"[progress 2/5] 'text_length' 칼럼 계산\")\n",
    "    df['text_length'] = df[text_column_name].str.len()\n",
    "    \n",
    "    # 3. 500자 지점이 상위 몇 %인지 계산\n",
    "    print(\"[progress 3/5] 500자 지점이 상위 몇 %인지 계산\")\n",
    "    percentile_500 = (df['text_length'] <= 500).mean() * 100\n",
    "    print(f\"{percentile_500} 퍼센트의 text만 보존합니다 \")\n",
    "    \n",
    "    # 4. 500자 초과하는 텍스트 제거\n",
    "    print(\"[progress 4/5] 500자 초과하는 텍스트 제거\")\n",
    "    df_filtered = df[df['text_length'] <= 500]\n",
    "    \n",
    "    \n",
    "    \n",
    "    # 5. 파일로 저장\n",
    "    print(\"[progress 5/5] 파일로 저장\")\n",
    "    df_filtered.to_csv(save_file_path, index=False, encoding=\"utf-8\")\n",
    "    \n",
    "\n",
    "    print(\"[done]\")"
   ]
  },
  {
   "cell_type": "markdown",
   "id": "94b98d11-9fd9-4255-a767-75d04d897608",
   "metadata": {},
   "source": [
    "## 2-b. 함수 적용"
   ]
  },
  {
   "cell_type": "code",
   "execution_count": 5,
   "id": "a7765f55-db26-4aa3-a81b-bf3ce7db3534",
   "metadata": {},
   "outputs": [
    {
     "name": "stdout",
     "output_type": "stream",
     "text": [
      "[progress 1/5] 데이터 읽어오기\n",
      "[progress 2/5] 'text_length' 칼럼 계산\n",
      "[progress 3/5] 500자 지점이 상위 몇 %인지 계산\n",
      "98.95720303823323 퍼센트의 text만 보존합니다 \n",
      "[progress 4/5] 500자 초과하는 텍스트 제거\n",
      "[progress 5/5] 파일로 저장\n",
      "[done]\n",
      "Function 'make_length_filtered_csv_file' executed in 0.6988341808319092 seconds.\n"
     ]
    }
   ],
   "source": [
    "read_file_path = \"1_cleansed_ecopro_text.csv\"\n",
    "text_column_name = \"cleansed_text\"\n",
    "save_file_path = \"2_length_filtered_ecopro_text.csv\"\n",
    "make_length_filtered_csv_file(read_file_path, text_column_name, save_file_path)"
   ]
  },
  {
   "cell_type": "markdown",
   "id": "bb2f9db7-3857-4324-9838-fd9369a2e66c",
   "metadata": {},
   "source": [
    "## 2-c. 부동산 갤러리 날려버리기\n",
    "- text 분석 결과, 주식 관련 글이 아닌, 아파트에 대한 글이 많아서 전부 날려버린다"
   ]
  },
  {
   "cell_type": "code",
   "execution_count": 10,
   "id": "719cc66d-8cd9-4786-ac70-e769460e75c0",
   "metadata": {
    "scrolled": true
   },
   "outputs": [
    {
     "name": "stdout",
     "output_type": "stream",
     "text": [
      "<class 'pandas.core.frame.DataFrame'>\n",
      "RangeIndex: 124029 entries, 0 to 124028\n",
      "Data columns (total 10 columns):\n",
      " #   Column          Non-Null Count   Dtype \n",
      "---  ------          --------------   ----- \n",
      " 0   community       124029 non-null  object\n",
      " 1   gall_id         124029 non-null  object\n",
      " 2   search_keyword  124029 non-null  object\n",
      " 3   number          124029 non-null  int64 \n",
      " 4   date_created    124029 non-null  object\n",
      " 5   time_created    124029 non-null  object\n",
      " 6   author          124029 non-null  object\n",
      " 7   is_reply        124029 non-null  int64 \n",
      " 8   cleansed_text   124029 non-null  object\n",
      " 9   text_length     124029 non-null  int64 \n",
      "dtypes: int64(3), object(7)\n",
      "memory usage: 9.5+ MB\n",
      "<class 'pandas.core.frame.DataFrame'>\n",
      "Index: 108945 entries, 0 to 124028\n",
      "Data columns (total 10 columns):\n",
      " #   Column          Non-Null Count   Dtype \n",
      "---  ------          --------------   ----- \n",
      " 0   community       108945 non-null  object\n",
      " 1   gall_id         108945 non-null  object\n",
      " 2   search_keyword  108945 non-null  object\n",
      " 3   number          108945 non-null  int64 \n",
      " 4   date_created    108945 non-null  object\n",
      " 5   time_created    108945 non-null  object\n",
      " 6   author          108945 non-null  object\n",
      " 7   is_reply        108945 non-null  int64 \n",
      " 8   cleansed_text   108945 non-null  object\n",
      " 9   text_length     108945 non-null  int64 \n",
      "dtypes: int64(3), object(7)\n",
      "memory usage: 9.1+ MB\n"
     ]
    }
   ],
   "source": [
    "# 부동산갤이 푸르지오, 힐스테이트 등 에코프로와 관련없는 text를 내포한다고 판단하여 없애버리겠다\n",
    "import pandas as pd\n",
    "\n",
    "# 1. 데이터 읽어오기\n",
    "df = pd.read_csv(\"2_length_filtered_ecopro_text.csv\", encoding=\"utf-8\")\n",
    "df.info()\n",
    "\n",
    "# 'gall_id'가 'immovables'인 행을 제거\n",
    "df = df[df['gall_id'] != 'immovables']\n",
    "\n",
    "# 결과 출력\n",
    "df.info()"
   ]
  },
  {
   "cell_type": "code",
   "execution_count": 12,
   "id": "f0509d05-b278-455b-bdbe-9cf6d3e69cae",
   "metadata": {},
   "outputs": [],
   "source": [
    "df.to_csv(\"2_filtered_ecopro_text.csv\", index=False, encoding=\"utf-8\")"
   ]
  },
  {
   "cell_type": "code",
   "execution_count": null,
   "id": "408c825d-3740-4840-9b77-b992b201ae15",
   "metadata": {},
   "outputs": [],
   "source": []
  },
  {
   "cell_type": "code",
   "execution_count": null,
   "id": "ac96abc0-89ae-4ed5-81a8-25960d4f932b",
   "metadata": {},
   "outputs": [],
   "source": []
  },
  {
   "cell_type": "code",
   "execution_count": null,
   "id": "4dc945b9-72a6-48f1-9774-3f8ddde5f21c",
   "metadata": {},
   "outputs": [],
   "source": []
  },
  {
   "cell_type": "code",
   "execution_count": null,
   "id": "12141b3c-52cf-422c-956b-d57656254d65",
   "metadata": {},
   "outputs": [],
   "source": []
  },
  {
   "cell_type": "code",
   "execution_count": null,
   "id": "91a7e3c3-9c62-46e8-ab6c-4cc8849b5d50",
   "metadata": {},
   "outputs": [],
   "source": []
  },
  {
   "cell_type": "code",
   "execution_count": null,
   "id": "bbc9c446-37cb-47fd-bbd2-321b23a9a694",
   "metadata": {},
   "outputs": [],
   "source": []
  },
  {
   "cell_type": "code",
   "execution_count": null,
   "id": "52039af7-304c-41c1-ab02-d469fca69a8b",
   "metadata": {},
   "outputs": [],
   "source": []
  }
 ],
 "metadata": {
  "kernelspec": {
   "display_name": "Python 3 (ipykernel)",
   "language": "python",
   "name": "python3"
  },
  "language_info": {
   "codemirror_mode": {
    "name": "ipython",
    "version": 3
   },
   "file_extension": ".py",
   "mimetype": "text/x-python",
   "name": "python",
   "nbconvert_exporter": "python",
   "pygments_lexer": "ipython3",
   "version": "3.8.18"
  }
 },
 "nbformat": 4,
 "nbformat_minor": 5
}
